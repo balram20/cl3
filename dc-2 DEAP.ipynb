{
 "cells": [
  {
   "cell_type": "code",
   "execution_count": 1,
   "id": "7e715c46",
   "metadata": {},
   "outputs": [
    {
     "name": "stdout",
     "output_type": "stream",
     "text": [
      "Collecting deap\n",
      "  Downloading deap-1.4.1-cp39-cp39-win_amd64.whl (109 kB)\n",
      "     ------------------------------------ 109.9/109.9 kB 491.0 kB/s eta 0:00:00\n",
      "Requirement already satisfied: numpy in c:\\users\\balra\\anaconda3\\lib\\site-packages (from deap) (1.26.3)\n",
      "Installing collected packages: deap\n",
      "Successfully installed deap-1.4.1\n"
     ]
    }
   ],
   "source": [
    "!pip install deap "
   ]
  },
  {
   "cell_type": "code",
   "execution_count": 2,
   "id": "70125cf7",
   "metadata": {},
   "outputs": [],
   "source": [
    "import random\n",
    "from deap import base, creator, tools, algorithms"
   ]
  },
  {
   "cell_type": "code",
   "execution_count": 3,
   "id": "719835de",
   "metadata": {},
   "outputs": [],
   "source": [
    "def evaluate(individual):\n",
    "    return sum(individual),\n",
    "\n",
    "# Create the DEAP types for the individuals and fitness\n",
    "creator.create(\"FitnessMax\", base.Fitness, weights=(1.0,))\n",
    "creator.create(\"Individual\", list, fitness=creator.FitnessMax)\n",
    "\n",
    "# Initialize the DEAP toolbox\n",
    "toolbox = base.Toolbox()"
   ]
  },
  {
   "cell_type": "code",
   "execution_count": 4,
   "id": "4f46c69d",
   "metadata": {},
   "outputs": [],
   "source": [
    "toolbox.register(\"attr_bool\", random.randint, 0, 1)\n",
    "toolbox.register(\"individual\", tools.initRepeat, creator.Individual, toolbox.attr_bool, n=10)\n",
    "toolbox.register(\"population\", tools.initRepeat, list, toolbox.individual)\n",
    "\n",
    "toolbox.register(\"mate\", tools.cxTwoPoint)\n",
    "toolbox.register(\"mutate\", tools.mutFlipBit, indpb=0.05)\n",
    "toolbox.register(\"select\", tools.selTournament, tournsize=3)\n",
    "toolbox.register(\"evaluate\", evaluate)"
   ]
  },
  {
   "cell_type": "code",
   "execution_count": 5,
   "id": "3eb43f33",
   "metadata": {},
   "outputs": [],
   "source": [
    "population_size = 100\n",
    "num_generations = 50\n",
    "\n",
    "# Create initial population\n",
    "population = toolbox.population(n=population_size)\n",
    "\n",
    "# Evaluate the entire population\n",
    "fitnesses = list(map(toolbox.evaluate, population))\n",
    "for ind, fit in zip(population, fitnesses):\n",
    "    ind.fitness.values = fit"
   ]
  },
  {
   "cell_type": "code",
   "execution_count": 6,
   "id": "7aa9fbe8",
   "metadata": {},
   "outputs": [],
   "source": [
    "# Evolutionary loop\n",
    "for generation in range(num_generations):\n",
    "    # Select the next generation individuals\n",
    "    offspring = toolbox.select(population, len(population))\n",
    "\n",
    "    # Clone the selected individuals\n",
    "    offspring = list(map(toolbox.clone, offspring))\n",
    "\n",
    "    # Apply crossover and mutation on the offspring\n",
    "    for child1, child2 in zip(offspring[::2], offspring[1::2]):\n",
    "        if random.random() < 0.5:\n",
    "            toolbox.mate(child1, child2)\n",
    "            del child1.fitness.values\n",
    "            del child2.fitness.values\n",
    "\n",
    "    for mutant in offspring:\n",
    "        if random.random() < 0.2:\n",
    "            toolbox.mutate(mutant)\n",
    "            del mutant.fitness.values"
   ]
  },
  {
   "cell_type": "code",
   "execution_count": 7,
   "id": "e06a0297",
   "metadata": {},
   "outputs": [],
   "source": [
    "invalid_ind = [ind for ind in offspring if not ind.fitness.valid]\n",
    "fitnesses = map(toolbox.evaluate, invalid_ind)\n",
    "for ind, fit in zip(invalid_ind, fitnesses):\n",
    "        ind.fitness.values = fit\n",
    "\n",
    "# Replace the current population with the offspring\n",
    "population[:] = offspring"
   ]
  },
  {
   "cell_type": "code",
   "execution_count": 8,
   "id": "da7350c1",
   "metadata": {},
   "outputs": [
    {
     "name": "stdout",
     "output_type": "stream",
     "text": [
      "Best individual: [1, 1, 1, 0, 1, 1, 1, 1, 1, 1]\n",
      "Fitness: 9.0\n"
     ]
    }
   ],
   "source": [
    "# Print the best individual\n",
    "best_individual = tools.selBest(population, 1)[0]\n",
    "print(\"Best individual:\", best_individual)\n",
    "print(\"Fitness:\", best_individual.fitness.values[0])"
   ]
  }
 ],
 "metadata": {
  "kernelspec": {
   "display_name": "Python 3 (ipykernel)",
   "language": "python",
   "name": "python3"
  },
  "language_info": {
   "codemirror_mode": {
    "name": "ipython",
    "version": 3
   },
   "file_extension": ".py",
   "mimetype": "text/x-python",
   "name": "python",
   "nbconvert_exporter": "python",
   "pygments_lexer": "ipython3",
   "version": "3.9.13"
  }
 },
 "nbformat": 4,
 "nbformat_minor": 5
}
