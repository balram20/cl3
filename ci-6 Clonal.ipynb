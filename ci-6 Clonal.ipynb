{
  "nbformat": 4,
  "nbformat_minor": 0,
  "metadata": {
    "colab": {
      "provenance": []
    },
    "kernelspec": {
      "name": "python3",
      "display_name": "Python 3"
    },
    "language_info": {
      "name": "python"
    }
  },
  "cells": [
    {
      "cell_type": "markdown",
      "source": [
        "Balram Tondare\n",
        "\n",
        "05\n",
        "\n",
        "CL-3"
      ],
      "metadata": {
        "id": "fTxF8SECQfhJ"
      }
    },
    {
      "cell_type": "code",
      "source": [
        "import random\n",
        "import numpy as np\n",
        "\n",
        "# Define the objective function\n",
        "def objective_function(x):\n",
        "    # Example: Sphere function\n",
        "    return sum([i**2 for i in x])\n",
        "\n",
        "# Initialize population\n",
        "def initialize_population(pop_size, dimensions, lower_bound, upper_bound):\n",
        "    population = []\n",
        "    for _ in range(pop_size):\n",
        "        individual = np.random.uniform(lower_bound, upper_bound, dimensions)\n",
        "        population.append(individual)\n",
        "    return population\n",
        "\n",
        "# Clone an individual\n",
        "def clone_individual(individual, clone_factor):\n",
        "    clones = []\n",
        "    for _ in range(clone_factor):\n",
        "        clone = np.array(individual)\n",
        "        for i in range(len(clone)):\n",
        "            mutation_rate = random.uniform(0, 1)\n",
        "            if mutation_rate < 0.5:\n",
        "                clone[i] += random.uniform(-1, 1)\n",
        "        clones.append(clone)\n",
        "    return clones\n",
        "\n",
        "# Select the best individuals\n",
        "def select_best(population, num_selected, num_clones, clone_factor):\n",
        "    population.sort(key=lambda x: objective_function(x))\n",
        "    selected = []\n",
        "    for i in range(min(num_selected, len(population))):\n",
        "        clones = clone_individual(population[i], clone_factor)\n",
        "        selected.extend(clones)\n",
        "    return selected[:num_clones]\n",
        "\n",
        "# Main function for clonal selection algorithm\n",
        "def clonal_selection_algorithm(pop_size, dimensions, lower_bound, upper_bound,\n",
        "                                num_generations, num_selected, num_clones, clone_factor):\n",
        "    population = initialize_population(pop_size, dimensions, lower_bound, upper_bound)\n",
        "    for _ in range(num_generations):\n",
        "        selected = select_best(population, num_selected, num_clones, clone_factor)\n",
        "        population = selected\n",
        "    best_solution = min(population, key=lambda x: objective_function(x))\n",
        "    return best_solution, objective_function(best_solution)\n",
        "\n",
        "# Example usage\n",
        "if __name__ == \"__main__\":\n",
        "    pop_size = 100\n",
        "    dimensions = 2\n",
        "    lower_bound = -5.0\n",
        "    upper_bound = 5.0\n",
        "    num_generations = 100\n",
        "    num_selected = 10\n",
        "    num_clones = 5\n",
        "    clone_factor = 3\n",
        "\n",
        "    best_solution, best_fitness = clonal_selection_algorithm(pop_size, dimensions, lower_bound,\n",
        "                                                             upper_bound, num_generations,\n",
        "                                                             num_selected, num_clones, clone_factor)\n",
        "    print(\"Best solution:\", best_solution)\n",
        "    print(\"Best fitness:\", best_fitness)\n"
      ],
      "metadata": {
        "colab": {
          "base_uri": "https://localhost:8080/",
          "height": 0
        },
        "id": "HT2R1-CjPlna",
        "outputId": "a353e848-b711-492d-b874-341661e5e16e"
      },
      "execution_count": 31,
      "outputs": [
        {
          "output_type": "stream",
          "name": "stdout",
          "text": [
            "Best solution: [-0.05535599  0.25139666]\n",
            "Best fitness: 0.06626456413807316\n"
          ]
        }
      ]
    }
  ]
}