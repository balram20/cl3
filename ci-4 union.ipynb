{
  "nbformat": 4,
  "nbformat_minor": 0,
  "metadata": {
    "colab": {
      "provenance": []
    },
    "kernelspec": {
      "name": "python3",
      "display_name": "Python 3"
    },
    "language_info": {
      "name": "python"
    }
  },
  "cells": [
    {
      "cell_type": "markdown",
      "source": [
        "Balram Tondare\n",
        "\n",
        "05\n",
        "\n",
        "CL-3"
      ],
      "metadata": {
        "id": "awc25BjkSLOp"
      }
    },
    {
      "cell_type": "code",
      "execution_count": 1,
      "metadata": {
        "colab": {
          "base_uri": "https://localhost:8080/",
          "height": 0
        },
        "id": "WSfPA5obR7To",
        "outputId": "147e1bb3-d944-4660-b3a2-6d4cd566844d"
      },
      "outputs": [
        {
          "output_type": "stream",
          "name": "stdout",
          "text": [
            "Union: [0.3 0.5 0.7 0.9]\n",
            "Intersection: [0.2 0.4 0.6 0.8]\n",
            "Complement of A: [0.8 0.6 0.4 0.2]\n",
            "Difference: [0.7 0.5 0.6 0.8]\n",
            "Cartesian product of R and S:\n",
            "[[0.12 0.06 0.14]\n",
            " [0.3  0.15 0.35]\n",
            " [0.24 0.12 0.28]]\n",
            "Max-Min composition of R and S:\n",
            "[0.2 0.5 0.4]\n"
          ]
        }
      ],
      "source": [
        "import numpy as np\n",
        "\n",
        "# Function to perform Union operation on fuzzy sets\n",
        "def fuzzy_union(A, B):\n",
        "    return np.maximum(A, B)\n",
        "\n",
        "# Function to perform Intersection operation on fuzzy sets\n",
        "def fuzzy_intersection(A, B):\n",
        "    return np.minimum(A, B)\n",
        "\n",
        "# Function to perform Complement operation on a fuzzy set\n",
        "def fuzzy_complement(A):\n",
        "    return 1 - A\n",
        "\n",
        "# Function to perform Difference operation on fuzzy sets\n",
        "def fuzzy_difference(A, B):\n",
        "    return np.maximum(A, 1 - B)\n",
        "\n",
        "# Function to create fuzzy relation by Cartesian product of two fuzzy sets\n",
        "def cartesian_product(A, B):\n",
        "    return np.outer(A, B)\n",
        "\n",
        "# Function to perform Max-Min composition on two fuzzy relations\n",
        "def max_min_composition(R, S):\n",
        "    return np.max(np.minimum.outer(R, S), axis=1)\n",
        "\n",
        "# Example usage\n",
        "if __name__ == \"__main__\":\n",
        "    A = np.array([0.2, 0.4, 0.6, 0.8]) # Fuzzy set A\n",
        "    B = np.array([0.3, 0.5, 0.7, 0.9]) # Fuzzy set B\n",
        "\n",
        "    # Operations on fuzzy sets\n",
        "    union_result = fuzzy_union(A, B)\n",
        "    intersection_result = fuzzy_intersection(A, B)\n",
        "    complement_A = fuzzy_complement(A)\n",
        "    difference_result = fuzzy_difference(A, B)\n",
        "\n"
      ]
    },
    {
      "cell_type": "code",
      "source": [
        "    print(\"Union:\", union_result)\n",
        "    print(\"Intersection:\", intersection_result)\n",
        "    print(\"Complement of A:\", complement_A)\n",
        "    print(\"Difference:\", difference_result)\n",
        "\n",
        "\n"
      ],
      "metadata": {
        "colab": {
          "base_uri": "https://localhost:8080/",
          "height": 0
        },
        "id": "4_OE4m11R8PQ",
        "outputId": "4d624f15-6921-48a8-9aee-5ea563a6b831"
      },
      "execution_count": 2,
      "outputs": [
        {
          "output_type": "stream",
          "name": "stdout",
          "text": [
            "Union: [0.3 0.5 0.7 0.9]\n",
            "Intersection: [0.2 0.4 0.6 0.8]\n",
            "Complement of A: [0.8 0.6 0.4 0.2]\n",
            "Difference: [0.7 0.5 0.6 0.8]\n"
          ]
        }
      ]
    },
    {
      "cell_type": "code",
      "source": [
        "    # Fuzzy relations\n",
        "    R = np.array([0.2, 0.5, 0.4]) # Fuzzy relation R\n",
        "    S = np.array([0.6, 0.3, 0.7]) # Fuzzy relation S\n",
        "\n",
        "    # Cartesian product of fuzzy relations\n",
        "    cartesian_result = cartesian_product(R, S)\n",
        "\n",
        "    # Max-Min composition of fuzzy relations\n",
        "    composition_result = max_min_composition(R, S)\n",
        "\n",
        "    print(\"Cartesian product of R and S:\")\n",
        "    print(cartesian_result)\n",
        "\n",
        "    print(\"Max-Min composition of R and S:\")\n",
        "    print(composition_result)"
      ],
      "metadata": {
        "colab": {
          "base_uri": "https://localhost:8080/",
          "height": 0
        },
        "id": "EBfemGM6SHXz",
        "outputId": "8ec4c4db-e0e9-4ce8-ff27-73170d921a71"
      },
      "execution_count": 3,
      "outputs": [
        {
          "output_type": "stream",
          "name": "stdout",
          "text": [
            "Cartesian product of R and S:\n",
            "[[0.12 0.06 0.14]\n",
            " [0.3  0.15 0.35]\n",
            " [0.24 0.12 0.28]]\n",
            "Max-Min composition of R and S:\n",
            "[0.2 0.5 0.4]\n"
          ]
        }
      ]
    },
    {
      "cell_type": "code",
      "source": [],
      "metadata": {
        "id": "Xm8fxjLnSINX"
      },
      "execution_count": null,
      "outputs": []
    }
  ]
}